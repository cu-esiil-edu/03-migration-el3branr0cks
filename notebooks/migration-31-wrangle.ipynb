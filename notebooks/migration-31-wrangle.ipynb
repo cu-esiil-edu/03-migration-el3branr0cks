{
  "cells": [
    {
      "cell_type": "markdown",
      "id": "7c1e7039-990a-4633-9ad5-20c4521bfda8",
      "metadata": {},
      "source": [
        "# Spring returns to the Great Plains\n",
        "\n",
        "Mapping Tasiyagnunpa migration\n",
        "\n",
        "## Set up\n",
        "\n",
        "To get started on this notebook, you’ll need to restore any variables\n",
        "from previous notebooks to your workspace."
      ]
    },
    {
      "cell_type": "code",
      "execution_count": 3,
      "id": "765857de",
      "metadata": {},
      "outputs": [],
      "source": [
        "%store -r\n",
        "\n",
        "# Import libraries"
      ]
    },
    {
      "cell_type": "markdown",
      "id": "4d3b330d-5d01-41fc-96b4-e7dd03adfcc0",
      "metadata": {},
      "source": [
        "## STEP 1: Set up your reproducible workflow\n",
        "\n",
        "### Import Python libraries\n",
        "\n",
        "<link rel=\"stylesheet\" type=\"text/css\" href=\"./assets/styles.css\"><div class=\"callout callout-style-default callout-titled callout-task\"><div class=\"callout-header\"><div class=\"callout-icon-container\"><i class=\"callout-icon\"></i></div><div class=\"callout-title-container flex-fill\">Try It: Import packages</div></div><div class=\"callout-body-container callout-body\"><p>In the imports cell, we’ve included some packages that you will need.\n",
        "Add imports for packages that will help you:</p>\n",
        "<ol type=\"1\">\n",
        "<li>Work with tabular data</li>\n",
        "<li>Work with geospatial vector data</li>\n",
        "</ol></div></div>"
      ]
    },
    {
      "cell_type": "code",
      "execution_count": 4,
      "id": "3a51bf1b",
      "metadata": {
        "template": "student"
      },
      "outputs": [],
      "source": [
        "import os\n",
        "import pathlib\n",
        "\n",
        "import earthpy\n",
        "import geopandas as gpd\n",
        "import pandas as pd\n",
        "\n",
        "id = 'stars'\n",
        "project_title = 'Tasiyagnunpa Migration 2023'\n",
        "species_name = 'Tasiyagnunpa'\n",
        "species_lookup = 'sturnella neglecta'\n",
        "species_key = 9596413\n",
        "year = 2023\n",
        "gbif_filename = 'gbif_tasiyagnunpa.csv'\n",
        "ecoregions_dir = 'wwf_ecoregions'\n",
        "plot_filename = 'tasiyagnunpa_migration'\n",
        "plot_height = 500"
      ]
    },
    {
      "cell_type": "markdown",
      "id": "1f0ef51a-8e17-4836-b03e-370275a85e1f",
      "metadata": {},
      "source": [
        "### Create a directory for your data\n",
        "\n",
        "For this challenge, you will need to download some data to the computer\n",
        "you’re working on. We suggest using the `earthpy` library we develop to\n",
        "manage your downloads, since it encapsulates many best practices as far\n",
        "as:\n",
        "\n",
        "1.  Where to store your data\n",
        "2.  Dealing with archived data like .zip files\n",
        "3.  Avoiding version control problems\n",
        "4.  Making sure your code works cross-platform\n",
        "5.  Avoiding duplicate downloads\n",
        "\n",
        "If you’re working on one of our assignments through GitHub Classroom, it\n",
        "also lets us build in some handy defaults so that you can see your data\n",
        "files while you work.\n",
        "\n",
        "<link rel=\"stylesheet\" type=\"text/css\" href=\"./assets/styles.css\"><div class=\"callout callout-style-default callout-titled callout-task\"><div class=\"callout-header\"><div class=\"callout-icon-container\"><i class=\"callout-icon\"></i></div><div class=\"callout-title-container flex-fill\">Try It: Create a project folder</div></div><div class=\"callout-body-container callout-body\"><p>The code below will help you get started with making a project\n",
        "directory</p>\n",
        "<ol type=\"1\">\n",
        "<li>Replace <code>'your-project-directory-name-here'</code> with a\n",
        "<strong>descriptive</strong> name</li>\n",
        "<li>Run the cell</li>\n",
        "<li>The code should have printed out the path to your data files. Check\n",
        "that your data directory exists and has data in it using the terminal or\n",
        "your Finder/File Explorer.</li>\n",
        "</ol></div></div>\n",
        "\n",
        "> **File structure**\n",
        ">\n",
        "> These days, a lot of people find your file by searching for them or\n",
        "> selecting from a `Bookmarks` or `Recents` list. Even if you don’t use\n",
        "> it, your computer also keeps files in a **tree** structure of folders.\n",
        "> Put another way, you can organize and find files by travelling along a\n",
        "> unique **path**, e.g. `My Drive` \\> `Documents` \\>\n",
        "> `My awesome project` \\> `A project file` where each subsequent folder\n",
        "> is **inside** the previous one. This is convenient because all the\n",
        "> files for a project can be in the same place, and both people and\n",
        "> computers can rapidly locate files they want, provided they remember\n",
        "> the path.\n",
        ">\n",
        "> You may notice that when Python prints out a file path like this, the\n",
        "> folder names are **separated** by a `/` or `\\` (depending on your\n",
        "> operating system). This character is called the **file separator**,\n",
        "> and it tells you that the next piece of the path is **inside** the\n",
        "> previous one."
      ]
    },
    {
      "cell_type": "code",
      "execution_count": null,
      "id": "cc19f334",
      "metadata": {
        "template": "student"
      },
      "outputs": [
        {
          "name": "stdout",
          "output_type": "stream",
          "text": [
            "\n",
            "**Final Configuration Loaded:**\n",
            "{}\n",
            "Found 'data_home' in environment variables.\n",
            "🔄 Fetching metadata for article 29119190...\n",
            "✅ Found 2 files for download.\n",
            "[('https://ndownloader.figshare.com/files/54711704', 'gbif_tasiyagnunpa.csv', 'file'), ('https://ndownloader.figshare.com/files/54711734', 'wwf_ecoregions', 'zip')]\n",
            "gbif_tasiyagnunpa.csv\n",
            "[PosixPath('/workspaces/data/tasiyagnunpa-migration-2023/gbif_tasiyagnunpa.csv')]\n",
            "wwf_ecoregions\n",
            "[PosixPath('/workspaces/data/tasiyagnunpa-migration-2023/gbif_tasiyagnunpa.csv'), PosixPath('/workspaces/data/tasiyagnunpa-migration-2023/wwf_ecoregions')]\n"
          ]
        },
        {
          "data": {
            "text/plain": [
              "PosixPath('/workspaces/data/tasiyagnunpa-migration-2023')"
            ]
          },
          "execution_count": 5,
          "metadata": {},
          "output_type": "execute_result"
        },
        {
          "ename": "",
          "evalue": "",
          "output_type": "error",
          "traceback": [
            "\u001b[1;31mThe Kernel crashed while executing code in the current cell or a previous cell. \n",
            "\u001b[1;31mPlease review the code in the cell(s) to identify a possible cause of the failure. \n",
            "\u001b[1;31mClick <a href='https://aka.ms/vscodeJupyterKernelCrash'>here</a> for more info. \n",
            "\u001b[1;31mView Jupyter <a href='command:jupyter.viewOutput'>log</a> for further details."
          ]
        }
      ],
      "source": [
        "# Create data directory\n",
        "project = earthpy.Project(title=project_title)\n",
        "# Download sample data\n",
        "project.get_data()\n",
        "\n",
        "# Display the project directory\n",
        "project.project_dir"
      ]
    },
    {
      "cell_type": "markdown",
      "id": "97049219-73a5-45a7-b80c-ba4390a3f9f8",
      "metadata": {},
      "source": [
        "## STEP 2: Define your study area – the ecoregions of North America\n",
        "\n",
        "Your sample data package included a Shapefile of global **ecoregions**.\n",
        "You should be able to see changes in the number of observations of\n",
        "Tasiyagnunpa in each ecoregion throughout the year.\n",
        "\n",
        "<link rel=\"stylesheet\" type=\"text/css\" href=\"./assets/styles.css\"><div class=\"callout callout-style-default callout-info\"><div class=\"callout-header\"><div class=\"callout-icon-container\"><i class=\"callout-icon\"></i></div></div><div class=\"callout-body-container callout-body\"><p>You don’t have to use ecoregions to group species observations – you\n",
        "could choose to use political boundaries like countries or states, other\n",
        "natural boundaries like watersheds, or even uniform hexagonal areas as\n",
        "is common in conservation work. We chose ecoregions because we expect\n",
        "the suitability for a species at a particular time of year to be\n",
        "relatively consistent across the region.</p></div></div>\n",
        "\n",
        "<link rel=\"stylesheet\" type=\"text/css\" href=\"./assets/styles.css\"><div class=\"callout callout-style-default callout-titled callout-read\"><div class=\"callout-header\"><div class=\"callout-icon-container\"><i class=\"callout-icon\"></i></div><div class=\"callout-title-container flex-fill\">Read More</div></div><div class=\"callout-body-container callout-body\"><p>The ecoregion data will be available as a <strong>shapefile</strong>.\n",
        "Learn more about shapefiles and vector data in this <a\n",
        "href=\"https://www.earthdatascience.org/courses/intro-to-earth-data-science/file-formats/use-spatial-data/use-vector-data/\">Introduction\n",
        "to Spatial Vector Data File Formats in Open Source Python</a></p></div></div>\n",
        "\n",
        "### Load the ecoregions into Python\n",
        "\n",
        "<link rel=\"stylesheet\" type=\"text/css\" href=\"./assets/styles.css\"><div class=\"callout callout-style-default callout-titled callout-task\"><div class=\"callout-header\"><div class=\"callout-icon-container\"><i class=\"callout-icon\"></i></div><div class=\"callout-title-container flex-fill\">Try It: Load ecoregions into Python</div></div><div class=\"callout-body-container callout-body\"><p>Download and save ecoregion boundaries from the EPA:</p>\n",
        "<ol type=\"1\">\n",
        "<li>Replace <code>a_path</code> with the path your created for your\n",
        "ecoregions file.</li>\n",
        "<li>(optional) Consider renaming and selecting columns to make your\n",
        "<code>GeoDataFrame</code> easier to work with. Many of the same methods\n",
        "you learned for <code>pandas</code> <code>DataFrame</code>s are the same\n",
        "for <code>GeoDataFrame</code>s! NOTE: Make sure to keep the\n",
        "<code>'SHAPE_AREA'</code> column around – we will need that later!</li>\n",
        "<li>Make a quick plot with <code>.plot()</code> to make sure the\n",
        "download worked.</li>\n",
        "<li>Run the cell to load the data into Python</li>\n",
        "</ol></div></div>"
      ]
    },
    {
      "cell_type": "code",
      "execution_count": null,
      "id": "c4ad5594",
      "metadata": {
        "template": "student"
      },
      "outputs": [],
      "source": [
        "# Open up the ecoregions boundaries\n",
        "ecoregions_gdf = (\n",
        "    gpd.read_file(project.project_dir / ecoregions_dir)\n",
        "    .rename(columns={\n",
        "        'ECO_NAME': 'name',\n",
        "        'SHAPE_AREA': 'area'})\n",
        "    [['name', 'area', 'geometry']]\n",
        ")\n",
        "\n",
        "# We'll name the index so it will match the other data\n",
        "ecoregions_gdf.index.name = 'ecoregion'\n",
        "\n",
        "# Plot the ecoregions quickly to check download\n",
        "ecoregions_gdf.plot(edgecolor='black', color='skyblue')"
      ]
    },
    {
      "cell_type": "markdown",
      "id": "b2944cb7-3616-49f1-8fdf-79e9d126dbb6",
      "metadata": {},
      "source": [
        "## STEP 3: Load species observation data\n",
        "\n",
        "For this challenge, you will use a database called the [Global\n",
        "Biodiversity Information Facility (GBIF)](https://www.gbif.org/). GBIF\n",
        "is compiled from species observation data all over the world, and\n",
        "includes everything from museum specimens to photos taken by citizen\n",
        "scientists in their backyards. We’ve compiled some sample data in the\n",
        "same format that you will get from GBIF.\n",
        "\n",
        "Let’s start by looking at a little of the raw data."
      ]
    },
    {
      "cell_type": "code",
      "execution_count": null,
      "id": "660c69a1",
      "metadata": {},
      "outputs": [],
      "source": [
        "gbif_path = project.project_dir / gbif_filename"
      ]
    },
    {
      "cell_type": "markdown",
      "id": "c59422e6-9097-454c-bf2e-3fc57f3dd394",
      "metadata": {},
      "source": [
        "<link rel=\"stylesheet\" type=\"text/css\" href=\"./assets/styles.css\"><div class=\"callout callout-style-default callout-titled callout-task\"><div class=\"callout-header\"><div class=\"callout-icon-container\"><i class=\"callout-icon\"></i></div><div class=\"callout-title-container flex-fill\">Try It: Load GBIF data</div></div><div class=\"callout-body-container callout-body\"><ol type=\"1\">\n",
        "<li>Look at the beginning of the file you downloaded using the code\n",
        "below. What do you think the <strong>delimiter</strong> is?</li>\n",
        "<li>Run the following code cell. What happens?</li>\n",
        "<li>Uncomment and modify the parameters of <code>pd.read_csv()</code>\n",
        "below until your data loads successfully and you have only the columns\n",
        "you want.</li>\n",
        "</ol></div></div>\n",
        "\n",
        "You can use the following code to look at the beginning of your file:"
      ]
    },
    {
      "cell_type": "code",
      "execution_count": null,
      "id": "b491ec02",
      "metadata": {},
      "outputs": [
        {
          "name": "stdout",
          "output_type": "stream",
          "text": [
            "gbifID\tdatasetKey\toccurrenceID\tkingdom\tphylum\tclass\torder\tfamily\tgenus\tspecies\tinfraspecificEpithet\ttaxonRank\tscientificName\tverbatimScientificName\tverbatimScientificNameAuthorship\tcountryCode\tlocality\tstateProvince\toccurrenceStatus\tindividualCount\tpublishingOrgKey\tdecimalLatitude\tdecimalLongitude\tcoordinateUncertaintyInMeters\tcoordinatePrecision\televation\televationAccuracy\tdepth\tdepthAccuracy\teventDate\tday\tmonth\tyear\ttaxonKey\tspeciesKey\tbasisOfRecord\tinstitutionCode\tcollectionCode\tcatalogNumber\trecordNumber\tidentifiedBy\tdateIdentified\tlicense\trightsHolder\trecordedBy\ttypeStatus\testablishmentMeans\tlastInterpreted\tmediaType\tissue\n",
            "4501319588\t2f54cb88-4167-499a-81fb-0a2d02465212\thttp://arctos.database.museum/guid/DMNS:Bird:57539?seid=6172480\tAnimalia\tChordata\tAves\tPasseriformes\tIcteridae\tSturnella\tSturnella neglecta\t\tSPECIES\tSturnella neglecta Audubon, 1844\tSturnella neglecta\t\tUS\tFort Collins, 6888 East County Road 56\tColorado\tPRESENT\t\ta2ef6dd1-8886-48c9-8025-c62bac973cc7\t40.657779\t-104.94913\t80.0\t\t1609.0\t0.0\t\t\t2023-05-30\t30\t5\t2023\t9596413\t9596413\tPRESERVED_SPECIMEN\tDMNS\tBird\tDMNS:Bird:57539\t\tGreenwood Wildlife Rehabilitation Center\t2023-05-30T00:00:00\tCC_BY_NC_4_0\t\tCollector(s): Greenwood Wildlife Rehabilitation Center\t\t\t2025-02-06T17:47:06.161Z\t\tCOORDINATE_ROUNDED;CONTINENT_DERIVED_FROM_COORDINATES;INSTITUTION_MATCH_FUZZY;COLLECTION_MATCH_FUZZY\n"
          ]
        }
      ],
      "source": [
        "!head -n 2 $gbif_path "
      ]
    },
    {
      "cell_type": "code",
      "execution_count": null,
      "id": "6ddf9522",
      "metadata": {
        "template": "student"
      },
      "outputs": [
        {
          "data": {
            "text/html": [
              "<div>\n",
              "<style scoped>\n",
              "    .dataframe tbody tr th:only-of-type {\n",
              "        vertical-align: middle;\n",
              "    }\n",
              "\n",
              "    .dataframe tbody tr th {\n",
              "        vertical-align: top;\n",
              "    }\n",
              "\n",
              "    .dataframe thead th {\n",
              "        text-align: right;\n",
              "    }\n",
              "</style>\n",
              "<table border=\"1\" class=\"dataframe\">\n",
              "  <thead>\n",
              "    <tr style=\"text-align: right;\">\n",
              "      <th></th>\n",
              "      <th>decimalLatitude</th>\n",
              "      <th>decimalLongitude</th>\n",
              "      <th>month</th>\n",
              "    </tr>\n",
              "    <tr>\n",
              "      <th>gbifID</th>\n",
              "      <th></th>\n",
              "      <th></th>\n",
              "      <th></th>\n",
              "    </tr>\n",
              "  </thead>\n",
              "  <tbody>\n",
              "    <tr>\n",
              "      <th>4501319588</th>\n",
              "      <td>40.657779</td>\n",
              "      <td>-104.949130</td>\n",
              "      <td>5</td>\n",
              "    </tr>\n",
              "    <tr>\n",
              "      <th>4501319649</th>\n",
              "      <td>40.266835</td>\n",
              "      <td>-105.163977</td>\n",
              "      <td>7</td>\n",
              "    </tr>\n",
              "    <tr>\n",
              "      <th>4697139297</th>\n",
              "      <td>31.569170</td>\n",
              "      <td>-109.700950</td>\n",
              "      <td>2</td>\n",
              "    </tr>\n",
              "    <tr>\n",
              "      <th>4735897257</th>\n",
              "      <td>40.582947</td>\n",
              "      <td>-102.277350</td>\n",
              "      <td>4</td>\n",
              "    </tr>\n",
              "    <tr>\n",
              "      <th>4719794206</th>\n",
              "      <td>39.266953</td>\n",
              "      <td>-104.515920</td>\n",
              "      <td>6</td>\n",
              "    </tr>\n",
              "  </tbody>\n",
              "</table>\n",
              "</div>"
            ],
            "text/plain": [
              "            decimalLatitude  decimalLongitude  month\n",
              "gbifID                                              \n",
              "4501319588        40.657779       -104.949130      5\n",
              "4501319649        40.266835       -105.163977      7\n",
              "4697139297        31.569170       -109.700950      2\n",
              "4735897257        40.582947       -102.277350      4\n",
              "4719794206        39.266953       -104.515920      6"
            ]
          },
          "execution_count": 7,
          "metadata": {},
          "output_type": "execute_result"
        }
      ],
      "source": [
        "# Load the GBIF data\n",
        "gbif_df = pd.read_csv(\n",
        "    gbif_path, \n",
        "    delimiter='\\t',\n",
        "    index_col='gbifID',\n",
        "    usecols=['gbifID','decimalLatitude','decimalLongitude','month']\n",
        ")\n",
        "gbif_df.head()"
      ]
    },
    {
      "cell_type": "markdown",
      "id": "667c4b75-bf6f-4065-92cf-8308d4e1a46f",
      "metadata": {},
      "source": [
        "### Convert the GBIF data to a GeoDataFrame\n",
        "\n",
        "To plot the GBIF data, we need to convert it to a `GeoDataFrame` first.\n",
        "This will make some special geospatial operations from `geopandas`\n",
        "available, such as spatial joins and plotting.\n",
        "\n",
        "<link rel=\"stylesheet\" type=\"text/css\" href=\"./assets/styles.css\"><div class=\"callout callout-style-default callout-titled callout-task\"><div class=\"callout-header\"><div class=\"callout-icon-container\"><i class=\"callout-icon\"></i></div><div class=\"callout-title-container flex-fill\">Try It: Convert `DataFrame` to `GeoDataFrame`</div></div><div class=\"callout-body-container callout-body\"><ol type=\"1\">\n",
        "<li>Replace <code>your_dataframe</code> with the name of the\n",
        "<code>DataFrame</code> you just got from GBIF</li>\n",
        "<li>Replace <code>longitude_column_name</code> and\n",
        "<code>latitude_column_name</code> with column names from your\n",
        "`DataFrame</li>\n",
        "<li>Run the code to get a <code>GeoDataFrame</code> of the GBIF\n",
        "data.</li>\n",
        "</ol></div></div>"
      ]
    },
    {
      "cell_type": "code",
      "execution_count": null,
      "id": "32d768e3",
      "metadata": {
        "template": "student"
      },
      "outputs": [
        {
          "data": {
            "text/html": [
              "<div>\n",
              "<style scoped>\n",
              "    .dataframe tbody tr th:only-of-type {\n",
              "        vertical-align: middle;\n",
              "    }\n",
              "\n",
              "    .dataframe tbody tr th {\n",
              "        vertical-align: top;\n",
              "    }\n",
              "\n",
              "    .dataframe thead th {\n",
              "        text-align: right;\n",
              "    }\n",
              "</style>\n",
              "<table border=\"1\" class=\"dataframe\">\n",
              "  <thead>\n",
              "    <tr style=\"text-align: right;\">\n",
              "      <th></th>\n",
              "      <th>month</th>\n",
              "      <th>geometry</th>\n",
              "    </tr>\n",
              "    <tr>\n",
              "      <th>gbifID</th>\n",
              "      <th></th>\n",
              "      <th></th>\n",
              "    </tr>\n",
              "  </thead>\n",
              "  <tbody>\n",
              "    <tr>\n",
              "      <th>4501319588</th>\n",
              "      <td>5</td>\n",
              "      <td>POINT (-104.94913 40.65778)</td>\n",
              "    </tr>\n",
              "    <tr>\n",
              "      <th>4501319649</th>\n",
              "      <td>7</td>\n",
              "      <td>POINT (-105.16398 40.26684)</td>\n",
              "    </tr>\n",
              "    <tr>\n",
              "      <th>4697139297</th>\n",
              "      <td>2</td>\n",
              "      <td>POINT (-109.70095 31.56917)</td>\n",
              "    </tr>\n",
              "    <tr>\n",
              "      <th>4735897257</th>\n",
              "      <td>4</td>\n",
              "      <td>POINT (-102.27735 40.58295)</td>\n",
              "    </tr>\n",
              "    <tr>\n",
              "      <th>4719794206</th>\n",
              "      <td>6</td>\n",
              "      <td>POINT (-104.51592 39.26695)</td>\n",
              "    </tr>\n",
              "    <tr>\n",
              "      <th>...</th>\n",
              "      <td>...</td>\n",
              "      <td>...</td>\n",
              "    </tr>\n",
              "    <tr>\n",
              "      <th>4796460466</th>\n",
              "      <td>4</td>\n",
              "      <td>POINT (-118.89593 35.43725)</td>\n",
              "    </tr>\n",
              "    <tr>\n",
              "      <th>4720342585</th>\n",
              "      <td>4</td>\n",
              "      <td>POINT (-109.28928 40.43625)</td>\n",
              "    </tr>\n",
              "    <tr>\n",
              "      <th>4725888708</th>\n",
              "      <td>6</td>\n",
              "      <td>POINT (-111.30072 47.66419)</td>\n",
              "    </tr>\n",
              "    <tr>\n",
              "      <th>4512646405</th>\n",
              "      <td>7</td>\n",
              "      <td>POINT (-109.53653 50.8687)</td>\n",
              "    </tr>\n",
              "    <tr>\n",
              "      <th>5028881325</th>\n",
              "      <td>4</td>\n",
              "      <td>POINT (-106.66021 52.12968)</td>\n",
              "    </tr>\n",
              "  </tbody>\n",
              "</table>\n",
              "<p>249939 rows × 2 columns</p>\n",
              "</div>"
            ],
            "text/plain": [
              "            month                     geometry\n",
              "gbifID                                        \n",
              "4501319588      5  POINT (-104.94913 40.65778)\n",
              "4501319649      7  POINT (-105.16398 40.26684)\n",
              "4697139297      2  POINT (-109.70095 31.56917)\n",
              "4735897257      4  POINT (-102.27735 40.58295)\n",
              "4719794206      6  POINT (-104.51592 39.26695)\n",
              "...           ...                          ...\n",
              "4796460466      4  POINT (-118.89593 35.43725)\n",
              "4720342585      4  POINT (-109.28928 40.43625)\n",
              "4725888708      6  POINT (-111.30072 47.66419)\n",
              "4512646405      7   POINT (-109.53653 50.8687)\n",
              "5028881325      4  POINT (-106.66021 52.12968)\n",
              "\n",
              "[249939 rows x 2 columns]"
            ]
          },
          "execution_count": 8,
          "metadata": {},
          "output_type": "execute_result"
        }
      ],
      "source": [
        "gbif_gdf = (\n",
        "    gpd.GeoDataFrame(\n",
        "        gbif_df, \n",
        "        geometry=gpd.points_from_xy(\n",
        "            gbif_df.decimalLongitude, \n",
        "            gbif_df.decimalLatitude), \n",
        "        crs=\"EPSG:4326\")\n",
        "    # Select the desired columns\n",
        "    [['month','geometry']]\n",
        ")\n",
        "gbif_gdf"
      ]
    },
    {
      "cell_type": "markdown",
      "id": "bdb20e5c-4d52-4060-a1aa-0b1b9951f673",
      "metadata": {},
      "source": [
        "<link rel=\"stylesheet\" type=\"text/css\" href=\"./assets/styles.css\"><div class=\"callout callout-style-default callout-titled callout-task\"><div class=\"callout-header\"><div class=\"callout-icon-container\"><i class=\"callout-icon\"></i></div><div class=\"callout-title-container flex-fill\">Try It</div></div><div class=\"callout-body-container callout-body\"><p>Make sure to store the new version of your <code>DataFrame</code> for\n",
        "other notebooks!</p>\n",
        "<div id=\"ba5952a4\" class=\"cell\" data-execution_count=\"14\">\n",
        "<div class=\"sourceCode\" id=\"cb1\"><pre\n",
        "class=\"sourceCode python cell-code\"><code class=\"sourceCode python\"><span id=\"cb1-1\"><a href=\"#cb1-1\" aria-hidden=\"true\" tabindex=\"-1\"></a><span class=\"op\">%</span>store ecoregions_gdf gbif_gdf</span></code></pre></div>\n",
        "</div></div></div>\n",
        "\n",
        "## Wrap up\n",
        "\n",
        "Don’t forget to store your variables so you can use them in other\n",
        "notebooks! This code will store all your variables. You might want to\n",
        "specify specific variables, especially if you have large objects in\n",
        "memory that you won’t need in the future."
      ]
    },
    {
      "cell_type": "code",
      "execution_count": null,
      "id": "4d28d16d",
      "metadata": {},
      "outputs": [
        {
          "name": "stderr",
          "output_type": "stream",
          "text": [
            "UsageError: Unknown variable 'ecoregions_gdf'\n"
          ]
        }
      ],
      "source": [
        "%store ecoregions_gdf gbif_gdf species_name plot_filename"
      ]
    },
    {
      "cell_type": "markdown",
      "id": "a0344576-7917-4f73-b89e-0daa7ab153c0",
      "metadata": {},
      "source": [
        "Finally, be sure to `Restart` and `Run all` to make sure your notebook\n",
        "works all the way through!"
      ]
    }
  ],
  "metadata": {
    "kernelspec": {
      "display_name": "base",
      "language": "python",
      "name": "python3"
    },
    "language_info": {
      "codemirror_mode": {
        "name": "ipython",
        "version": 3
      },
      "file_extension": ".py",
      "mimetype": "text/x-python",
      "name": "python",
      "nbconvert_exporter": "python",
      "pygments_lexer": "ipython3",
      "version": "3.11.6"
    }
  },
  "nbformat": 4,
  "nbformat_minor": 5
}
